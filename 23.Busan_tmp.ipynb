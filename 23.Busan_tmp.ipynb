{
 "cells": [
  {
   "cell_type": "markdown",
   "metadata": {},
   "source": [
    "### 부산시 기온데이터"
   ]
  },
  {
   "cell_type": "code",
   "execution_count": 1,
   "metadata": {},
   "outputs": [],
   "source": [
    "import pandas as pd"
   ]
  },
  {
   "cell_type": "code",
   "execution_count": 6,
   "metadata": {},
   "outputs": [],
   "source": [
    "df = pd.read_csv('./data/busan_기온.csv', encoding='cp949', skiprows=7)"
   ]
  },
  {
   "cell_type": "code",
   "execution_count": 7,
   "metadata": {},
   "outputs": [
    {
     "data": {
      "text/html": [
       "<div>\n",
       "<style scoped>\n",
       "    .dataframe tbody tr th:only-of-type {\n",
       "        vertical-align: middle;\n",
       "    }\n",
       "\n",
       "    .dataframe tbody tr th {\n",
       "        vertical-align: top;\n",
       "    }\n",
       "\n",
       "    .dataframe thead th {\n",
       "        text-align: right;\n",
       "    }\n",
       "</style>\n",
       "<table border=\"1\" class=\"dataframe\">\n",
       "  <thead>\n",
       "    <tr style=\"text-align: right;\">\n",
       "      <th></th>\n",
       "      <th>날짜</th>\n",
       "      <th>지점</th>\n",
       "      <th>평균기온(℃)</th>\n",
       "      <th>최저기온(℃)</th>\n",
       "      <th>최고기온(℃)</th>\n",
       "    </tr>\n",
       "  </thead>\n",
       "  <tbody>\n",
       "    <tr>\n",
       "      <th>0</th>\n",
       "      <td>1904-04-09</td>\n",
       "      <td>159</td>\n",
       "      <td>11.3</td>\n",
       "      <td>7.8</td>\n",
       "      <td>16.1</td>\n",
       "    </tr>\n",
       "    <tr>\n",
       "      <th>1</th>\n",
       "      <td>1904-04-10</td>\n",
       "      <td>159</td>\n",
       "      <td>9.3</td>\n",
       "      <td>4.7</td>\n",
       "      <td>15.2</td>\n",
       "    </tr>\n",
       "    <tr>\n",
       "      <th>2</th>\n",
       "      <td>1904-04-11</td>\n",
       "      <td>159</td>\n",
       "      <td>10.6</td>\n",
       "      <td>NaN</td>\n",
       "      <td>14.9</td>\n",
       "    </tr>\n",
       "    <tr>\n",
       "      <th>3</th>\n",
       "      <td>1904-04-12</td>\n",
       "      <td>159</td>\n",
       "      <td>11.3</td>\n",
       "      <td>8.8</td>\n",
       "      <td>13.4</td>\n",
       "    </tr>\n",
       "    <tr>\n",
       "      <th>4</th>\n",
       "      <td>1904-04-13</td>\n",
       "      <td>159</td>\n",
       "      <td>14.5</td>\n",
       "      <td>11.1</td>\n",
       "      <td>16.9</td>\n",
       "    </tr>\n",
       "  </tbody>\n",
       "</table>\n",
       "</div>"
      ],
      "text/plain": [
       "           날짜   지점  평균기온(℃)  최저기온(℃)  최고기온(℃)\n",
       "0  1904-04-09  159     11.3      7.8     16.1\n",
       "1  1904-04-10  159      9.3      4.7     15.2\n",
       "2  1904-04-11  159     10.6      NaN     14.9\n",
       "3  1904-04-12  159     11.3      8.8     13.4\n",
       "4  1904-04-13  159     14.5     11.1     16.9"
      ]
     },
     "execution_count": 7,
     "metadata": {},
     "output_type": "execute_result"
    }
   ],
   "source": [
    "df.head()"
   ]
  },
  {
   "cell_type": "code",
   "execution_count": 10,
   "metadata": {},
   "outputs": [
    {
     "data": {
      "text/html": [
       "<div>\n",
       "<style scoped>\n",
       "    .dataframe tbody tr th:only-of-type {\n",
       "        vertical-align: middle;\n",
       "    }\n",
       "\n",
       "    .dataframe tbody tr th {\n",
       "        vertical-align: top;\n",
       "    }\n",
       "\n",
       "    .dataframe thead th {\n",
       "        text-align: right;\n",
       "    }\n",
       "</style>\n",
       "<table border=\"1\" class=\"dataframe\">\n",
       "  <thead>\n",
       "    <tr style=\"text-align: right;\">\n",
       "      <th></th>\n",
       "      <th>날짜</th>\n",
       "      <th>지점</th>\n",
       "      <th>평균기온(℃)</th>\n",
       "      <th>최저기온(℃)</th>\n",
       "      <th>최고기온(℃)</th>\n",
       "    </tr>\n",
       "  </thead>\n",
       "  <tbody>\n",
       "    <tr>\n",
       "      <th>41035</th>\n",
       "      <td>2016-08-14</td>\n",
       "      <td>159</td>\n",
       "      <td>31.7</td>\n",
       "      <td>28.3</td>\n",
       "      <td>37.3</td>\n",
       "    </tr>\n",
       "  </tbody>\n",
       "</table>\n",
       "</div>"
      ],
      "text/plain": [
       "               날짜   지점  평균기온(℃)  최저기온(℃)  최고기온(℃)\n",
       "41035  2016-08-14  159     31.7     28.3     37.3"
      ]
     },
     "execution_count": 10,
     "metadata": {},
     "output_type": "execute_result"
    }
   ],
   "source": [
    "df[df['최고기온(℃)'] == df['최고기온(℃)'].max()]"
   ]
  },
  {
   "cell_type": "code",
   "execution_count": 19,
   "metadata": {},
   "outputs": [],
   "source": [
    "# 일교차 가장 큰날\n",
    "df['일교차'] = df['최고기온(℃)'] - df['최저기온(℃)']"
   ]
  },
  {
   "cell_type": "code",
   "execution_count": 18,
   "metadata": {},
   "outputs": [
    {
     "data": {
      "text/html": [
       "<div>\n",
       "<style scoped>\n",
       "    .dataframe tbody tr th:only-of-type {\n",
       "        vertical-align: middle;\n",
       "    }\n",
       "\n",
       "    .dataframe tbody tr th {\n",
       "        vertical-align: top;\n",
       "    }\n",
       "\n",
       "    .dataframe thead th {\n",
       "        text-align: right;\n",
       "    }\n",
       "</style>\n",
       "<table border=\"1\" class=\"dataframe\">\n",
       "  <thead>\n",
       "    <tr style=\"text-align: right;\">\n",
       "      <th></th>\n",
       "      <th>날짜</th>\n",
       "      <th>지점</th>\n",
       "      <th>평균기온(℃)</th>\n",
       "      <th>최저기온(℃)</th>\n",
       "      <th>최고기온(℃)</th>\n",
       "      <th>일교차</th>\n",
       "    </tr>\n",
       "  </thead>\n",
       "  <tbody>\n",
       "    <tr>\n",
       "      <th>28729</th>\n",
       "      <td>1982-12-05</td>\n",
       "      <td>159</td>\n",
       "      <td>3.9</td>\n",
       "      <td>-3.3</td>\n",
       "      <td>15.2</td>\n",
       "      <td>18.5</td>\n",
       "    </tr>\n",
       "  </tbody>\n",
       "</table>\n",
       "</div>"
      ],
      "text/plain": [
       "               날짜   지점  평균기온(℃)  최저기온(℃)  최고기온(℃)   일교차\n",
       "28729  1982-12-05  159      3.9     -3.3     15.2  18.5"
      ]
     },
     "execution_count": 18,
     "metadata": {},
     "output_type": "execute_result"
    }
   ],
   "source": [
    "df[df['일교차'] == df['일교차'].max()]"
   ]
  },
  {
   "cell_type": "code",
   "execution_count": 15,
   "metadata": {},
   "outputs": [
    {
     "data": {
      "text/plain": [
       "날짜         43154\n",
       "지점         43154\n",
       "평균기온(℃)    43154\n",
       "최저기온(℃)    43144\n",
       "최고기온(℃)    43150\n",
       "일교차        43143\n",
       "dtype: int64"
      ]
     },
     "execution_count": 15,
     "metadata": {},
     "output_type": "execute_result"
    }
   ],
   "source": [
    "df.count()"
   ]
  },
  {
   "cell_type": "code",
   "execution_count": 17,
   "metadata": {},
   "outputs": [
    {
     "data": {
      "text/html": [
       "<div>\n",
       "<style scoped>\n",
       "    .dataframe tbody tr th:only-of-type {\n",
       "        vertical-align: middle;\n",
       "    }\n",
       "\n",
       "    .dataframe tbody tr th {\n",
       "        vertical-align: top;\n",
       "    }\n",
       "\n",
       "    .dataframe thead th {\n",
       "        text-align: right;\n",
       "    }\n",
       "</style>\n",
       "<table border=\"1\" class=\"dataframe\">\n",
       "  <thead>\n",
       "    <tr style=\"text-align: right;\">\n",
       "      <th></th>\n",
       "      <th>날짜</th>\n",
       "      <th>지점</th>\n",
       "      <th>평균기온(℃)</th>\n",
       "      <th>최저기온(℃)</th>\n",
       "      <th>최고기온(℃)</th>\n",
       "      <th>일교차</th>\n",
       "    </tr>\n",
       "  </thead>\n",
       "  <tbody>\n",
       "    <tr>\n",
       "      <th>2</th>\n",
       "      <td>1904-04-11</td>\n",
       "      <td>159</td>\n",
       "      <td>10.6</td>\n",
       "      <td>NaN</td>\n",
       "      <td>14.9</td>\n",
       "      <td>NaN</td>\n",
       "    </tr>\n",
       "    <tr>\n",
       "      <th>8</th>\n",
       "      <td>1904-04-17</td>\n",
       "      <td>159</td>\n",
       "      <td>10.3</td>\n",
       "      <td>NaN</td>\n",
       "      <td>12.6</td>\n",
       "      <td>NaN</td>\n",
       "    </tr>\n",
       "    <tr>\n",
       "      <th>11</th>\n",
       "      <td>1904-04-20</td>\n",
       "      <td>159</td>\n",
       "      <td>11.9</td>\n",
       "      <td>NaN</td>\n",
       "      <td>NaN</td>\n",
       "      <td>NaN</td>\n",
       "    </tr>\n",
       "    <tr>\n",
       "      <th>12</th>\n",
       "      <td>1904-04-21</td>\n",
       "      <td>159</td>\n",
       "      <td>12.1</td>\n",
       "      <td>NaN</td>\n",
       "      <td>18.3</td>\n",
       "      <td>NaN</td>\n",
       "    </tr>\n",
       "    <tr>\n",
       "      <th>17</th>\n",
       "      <td>1904-04-26</td>\n",
       "      <td>159</td>\n",
       "      <td>14.5</td>\n",
       "      <td>NaN</td>\n",
       "      <td>17.6</td>\n",
       "      <td>NaN</td>\n",
       "    </tr>\n",
       "    <tr>\n",
       "      <th>28</th>\n",
       "      <td>1904-05-07</td>\n",
       "      <td>159</td>\n",
       "      <td>16.1</td>\n",
       "      <td>NaN</td>\n",
       "      <td>21.9</td>\n",
       "      <td>NaN</td>\n",
       "    </tr>\n",
       "    <tr>\n",
       "      <th>37</th>\n",
       "      <td>1904-05-16</td>\n",
       "      <td>159</td>\n",
       "      <td>16.3</td>\n",
       "      <td>NaN</td>\n",
       "      <td>21.1</td>\n",
       "      <td>NaN</td>\n",
       "    </tr>\n",
       "    <tr>\n",
       "      <th>40</th>\n",
       "      <td>1904-05-19</td>\n",
       "      <td>159</td>\n",
       "      <td>16.3</td>\n",
       "      <td>NaN</td>\n",
       "      <td>22.8</td>\n",
       "      <td>NaN</td>\n",
       "    </tr>\n",
       "    <tr>\n",
       "      <th>22961</th>\n",
       "      <td>1967-02-19</td>\n",
       "      <td>159</td>\n",
       "      <td>2.7</td>\n",
       "      <td>NaN</td>\n",
       "      <td>NaN</td>\n",
       "      <td>NaN</td>\n",
       "    </tr>\n",
       "    <tr>\n",
       "      <th>25392</th>\n",
       "      <td>1973-10-16</td>\n",
       "      <td>159</td>\n",
       "      <td>15.9</td>\n",
       "      <td>NaN</td>\n",
       "      <td>NaN</td>\n",
       "      <td>NaN</td>\n",
       "    </tr>\n",
       "  </tbody>\n",
       "</table>\n",
       "</div>"
      ],
      "text/plain": [
       "               날짜   지점  평균기온(℃)  최저기온(℃)  최고기온(℃)  일교차\n",
       "2      1904-04-11  159     10.6      NaN     14.9  NaN\n",
       "8      1904-04-17  159     10.3      NaN     12.6  NaN\n",
       "11     1904-04-20  159     11.9      NaN      NaN  NaN\n",
       "12     1904-04-21  159     12.1      NaN     18.3  NaN\n",
       "17     1904-04-26  159     14.5      NaN     17.6  NaN\n",
       "28     1904-05-07  159     16.1      NaN     21.9  NaN\n",
       "37     1904-05-16  159     16.3      NaN     21.1  NaN\n",
       "40     1904-05-19  159     16.3      NaN     22.8  NaN\n",
       "22961  1967-02-19  159      2.7      NaN      NaN  NaN\n",
       "25392  1973-10-16  159     15.9      NaN      NaN  NaN"
      ]
     },
     "execution_count": 17,
     "metadata": {},
     "output_type": "execute_result"
    }
   ],
   "source": [
    "df[pd.isnull(df['최저기온(℃)'])]"
   ]
  },
  {
   "cell_type": "code",
   "execution_count": 24,
   "metadata": {},
   "outputs": [],
   "source": [
    "# 그래프 표현\n",
    "%matplotlib inline"
   ]
  },
  {
   "cell_type": "code",
   "execution_count": null,
   "metadata": {},
   "outputs": [],
   "source": [
    "import matplotlib.pyplot as plt"
   ]
  },
  {
   "cell_type": "code",
   "execution_count": 26,
   "metadata": {},
   "outputs": [
    {
     "data": {
      "image/png": "[encoded data removed]",
      "text/plain": [
       "<Figure size 432x288 with 1 Axes>"
      ]
     },
     "metadata": {
      "needs_background": "light"
     },
     "output_type": "display_data"
    }
   ],
   "source": [
    "plt.plot(df['날짜'][40000:40050], df['평균기온(℃)'][40000:40050])\n",
    "plt.xticks(df['날짜'][40000:40050], rotation=90)\n",
    "plt.show()"
   ]
  },
  {
   "cell_type": "code",
   "execution_count": 50,
   "metadata": {},
   "outputs": [
    {
     "data": {
      "text/html": [
       "<div>\n",
       "<style scoped>\n",
       "    .dataframe tbody tr th:only-of-type {\n",
       "        vertical-align: middle;\n",
       "    }\n",
       "\n",
       "    .dataframe tbody tr th {\n",
       "        vertical-align: top;\n",
       "    }\n",
       "\n",
       "    .dataframe thead th {\n",
       "        text-align: right;\n",
       "    }\n",
       "</style>\n",
       "<table border=\"1\" class=\"dataframe\">\n",
       "  <thead>\n",
       "    <tr style=\"text-align: right;\">\n",
       "      <th></th>\n",
       "      <th>날짜</th>\n",
       "      <th>지점</th>\n",
       "      <th>평균기온(℃)</th>\n",
       "      <th>최저기온(℃)</th>\n",
       "      <th>최고기온(℃)</th>\n",
       "      <th>일교차</th>\n",
       "      <th>연도</th>\n",
       "      <th>월</th>\n",
       "      <th>일</th>\n",
       "    </tr>\n",
       "  </thead>\n",
       "  <tbody>\n",
       "    <tr>\n",
       "      <th>0</th>\n",
       "      <td>1904-04-09</td>\n",
       "      <td>159</td>\n",
       "      <td>11.3</td>\n",
       "      <td>7.8</td>\n",
       "      <td>16.1</td>\n",
       "      <td>8.3</td>\n",
       "      <td>1904</td>\n",
       "      <td>04</td>\n",
       "      <td>09</td>\n",
       "    </tr>\n",
       "    <tr>\n",
       "      <th>1</th>\n",
       "      <td>1904-04-10</td>\n",
       "      <td>159</td>\n",
       "      <td>9.3</td>\n",
       "      <td>4.7</td>\n",
       "      <td>15.2</td>\n",
       "      <td>10.5</td>\n",
       "      <td>1904</td>\n",
       "      <td>04</td>\n",
       "      <td>10</td>\n",
       "    </tr>\n",
       "    <tr>\n",
       "      <th>2</th>\n",
       "      <td>1904-04-11</td>\n",
       "      <td>159</td>\n",
       "      <td>10.6</td>\n",
       "      <td>NaN</td>\n",
       "      <td>14.9</td>\n",
       "      <td>NaN</td>\n",
       "      <td>1904</td>\n",
       "      <td>04</td>\n",
       "      <td>11</td>\n",
       "    </tr>\n",
       "    <tr>\n",
       "      <th>3</th>\n",
       "      <td>1904-04-12</td>\n",
       "      <td>159</td>\n",
       "      <td>11.3</td>\n",
       "      <td>8.8</td>\n",
       "      <td>13.4</td>\n",
       "      <td>4.6</td>\n",
       "      <td>1904</td>\n",
       "      <td>04</td>\n",
       "      <td>12</td>\n",
       "    </tr>\n",
       "    <tr>\n",
       "      <th>4</th>\n",
       "      <td>1904-04-13</td>\n",
       "      <td>159</td>\n",
       "      <td>14.5</td>\n",
       "      <td>11.1</td>\n",
       "      <td>16.9</td>\n",
       "      <td>5.8</td>\n",
       "      <td>1904</td>\n",
       "      <td>04</td>\n",
       "      <td>13</td>\n",
       "    </tr>\n",
       "  </tbody>\n",
       "</table>\n",
       "</div>"
      ],
      "text/plain": [
       "           날짜   지점  평균기온(℃)  최저기온(℃)  최고기온(℃)   일교차    연도   월   일\n",
       "0  1904-04-09  159     11.3      7.8     16.1   8.3  1904  04  09\n",
       "1  1904-04-10  159      9.3      4.7     15.2  10.5  1904  04  10\n",
       "2  1904-04-11  159     10.6      NaN     14.9   NaN  1904  04  11\n",
       "3  1904-04-12  159     11.3      8.8     13.4   4.6  1904  04  12\n",
       "4  1904-04-13  159     14.5     11.1     16.9   5.8  1904  04  13"
      ]
     },
     "execution_count": 50,
     "metadata": {},
     "output_type": "execute_result"
    }
   ],
   "source": [
    "# 2000년 이후 3월 1일 이후 최고/최저 기온 확인\n",
    "# 연도/월/일 분리\n",
    "\n",
    "df['연도'] = df['날짜'].apply(lambda x : x.split('-')[0])\n",
    "df['월'] = df['날짜'].apply(lambda x : x.split('-')[1])\n",
    "df['일'] = df['날짜'].apply(lambda x : x.split('-')[2])\n",
    "df.head()"
   ]
  },
  {
   "cell_type": "code",
   "execution_count": 51,
   "metadata": {},
   "outputs": [
    {
     "name": "stdout",
     "output_type": "stream",
     "text": [
      "['2000' '2001' '2002' '2003' '2004' '2005' '2006' '2007' '2008' '2009'\n",
      " '2010' '2011' '2012' '2013' '2014' '2015' '2016' '2017' '2018' '2019'\n",
      " '2020' '2021' '2022']\n",
      "range(0, 23)\n"
     ]
    }
   ],
   "source": [
    "# 2000년 이후 연도만 리스트로 저장\n",
    "\n",
    "year = df[df['연도'] >= '2000']['연도'].unique()\n",
    "ticks = range(len(year))\n",
    "print(year)\n",
    "print(ticks)"
   ]
  },
  {
   "cell_type": "code",
   "execution_count": 55,
   "metadata": {},
   "outputs": [
    {
     "data": {
      "text/plain": [
       "0     12.1\n",
       "1     11.9\n",
       "2     15.1\n",
       "3      8.6\n",
       "4     10.0\n",
       "5      9.4\n",
       "6      6.4\n",
       "7     14.5\n",
       "8     13.4\n",
       "9     13.6\n",
       "10     9.9\n",
       "11     9.7\n",
       "12    12.5\n",
       "13    14.2\n",
       "14    11.4\n",
       "15     9.6\n",
       "16     7.7\n",
       "17    13.8\n",
       "18    12.0\n",
       "19    16.1\n",
       "20    15.6\n",
       "21    15.5\n",
       "22    15.0\n",
       "Name: 최고기온(℃), dtype: float64"
      ]
     },
     "execution_count": 55,
     "metadata": {},
     "output_type": "execute_result"
    }
   ],
   "source": [
    "최고기온 = df[\n",
    "    (df['연도'] >= '2000') &\n",
    "    (df['월'] == '03') &\n",
    "    (df['일'] == '01')]['최고기온(℃)']\n",
    "\n",
    "최고기온.index = ticks\n",
    "최고기온"
   ]
  },
  {
   "cell_type": "code",
   "execution_count": 56,
   "metadata": {},
   "outputs": [
    {
     "data": {
      "text/plain": [
       "0     1.0\n",
       "1     6.0\n",
       "2     6.8\n",
       "3     5.7\n",
       "4     4.5\n",
       "5    -0.1\n",
       "6     0.4\n",
       "7     4.7\n",
       "8     2.1\n",
       "9     5.9\n",
       "10    5.5\n",
       "11    2.5\n",
       "12    6.2\n",
       "13    1.1\n",
       "14    8.0\n",
       "15    2.2\n",
       "16   -4.3\n",
       "17    6.2\n",
       "18    2.7\n",
       "19    7.0\n",
       "20    7.2\n",
       "21    5.2\n",
       "22    8.3\n",
       "Name: 최저기온(℃), dtype: float64"
      ]
     },
     "execution_count": 56,
     "metadata": {},
     "output_type": "execute_result"
    }
   ],
   "source": [
    "최저기온 = df[\n",
    "    (df['연도'] >= '2000') &\n",
    "    (df['월'] == '03') &\n",
    "    (df['일'] == '01')]['최저기온(℃)']\n",
    "\n",
    "최저기온.index = ticks\n",
    "최저기온"
   ]
  },
  {
   "cell_type": "code",
   "execution_count": 60,
   "metadata": {},
   "outputs": [
    {
     "data": {
      "image/png": "[encoded data removed]",
      "text/plain": [
       "<Figure size 432x288 with 1 Axes>"
      ]
     },
     "metadata": {
      "needs_background": "light"
     },
     "output_type": "display_data"
    }
   ],
   "source": [
    "import matplotlib.pyplot as plt\n",
    "\n",
    "plt.rc('font', family='Malgun Gothic')\n",
    "plt.rcParams['axes.unicode_minus'] = False\n",
    "\n",
    "plt.plot(최고기온, label='최고기온')\n",
    "plt.plot(최저기온, label='최저기온')\n",
    "plt.xticks(ticks, year, rotation=45)\n",
    "plt.legend()\n",
    "plt.show()"
   ]
  },
  {
   "cell_type": "code",
   "execution_count": 63,
   "metadata": {},
   "outputs": [
    {
     "name": "stdout",
     "output_type": "stream",
     "text": [
      "연도\n",
      "1904    16.880524\n",
      "1905    13.973151\n",
      "1906    13.076438\n",
      "1907    13.579178\n",
      "1908    13.347814\n",
      "          ...    \n",
      "2018    15.115068\n",
      "2019    15.751507\n",
      "2020    15.205464\n",
      "2021    15.771233\n",
      "2022    10.632680\n",
      "Name: 평균기온(℃), Length: 119, dtype: float64\n"
     ]
    },
    {
     "data": {
      "text/plain": [
       "<AxesSubplot:xlabel='연도'>"
      ]
     },
     "execution_count": 63,
     "metadata": {},
     "output_type": "execute_result"
    },
    {
     "data": {
      "image/png": "[encoded data removed]",
      "text/plain": [
       "<Figure size 432x288 with 1 Axes>"
      ]
     },
     "metadata": {
      "needs_background": "light"
     },
     "output_type": "display_data"
    }
   ],
   "source": [
    "df_group = df.groupby('연도')['평균기온(℃)'].mean()\n",
    "print(df_group)\n",
    "df_group.plot()"
   ]
  },
  {
   "cell_type": "code",
   "execution_count": 65,
   "metadata": {},
   "outputs": [
    {
     "data": {
      "text/plain": [
       "(array([1.000e+00, 0.000e+00, 0.000e+00, 0.000e+00, 1.000e+00, 2.000e+00,\n",
       "        2.000e+00, 3.000e+00, 1.000e+00, 6.000e+00, 1.700e+01, 1.300e+01,\n",
       "        1.500e+01, 2.600e+01, 4.800e+01, 4.200e+01, 5.400e+01, 6.000e+01,\n",
       "        1.060e+02, 1.230e+02, 9.600e+01, 1.850e+02, 1.220e+02, 2.000e+02,\n",
       "        1.800e+02, 2.920e+02, 2.340e+02, 3.150e+02, 2.810e+02, 4.070e+02,\n",
       "        4.190e+02, 3.690e+02, 5.070e+02, 4.230e+02, 5.760e+02, 4.550e+02,\n",
       "        6.520e+02, 5.020e+02, 6.740e+02, 5.270e+02, 7.430e+02, 6.920e+02,\n",
       "        5.510e+02, 6.700e+02, 5.500e+02, 6.910e+02, 5.840e+02, 7.350e+02,\n",
       "        5.770e+02, 6.760e+02, 7.060e+02, 5.950e+02, 6.740e+02, 5.340e+02,\n",
       "        7.620e+02, 6.090e+02, 7.200e+02, 5.540e+02, 8.060e+02, 6.060e+02,\n",
       "        7.670e+02, 7.790e+02, 7.060e+02, 9.070e+02, 7.350e+02, 9.740e+02,\n",
       "        8.050e+02, 1.066e+03, 8.440e+02, 1.143e+03, 1.066e+03, 8.930e+02,\n",
       "        1.073e+03, 8.280e+02, 9.860e+02, 7.560e+02, 8.890e+02, 6.960e+02,\n",
       "        7.080e+02, 5.920e+02, 7.240e+02, 6.480e+02, 5.150e+02, 5.880e+02,\n",
       "        4.840e+02, 5.170e+02, 3.800e+02, 3.420e+02, 2.350e+02, 1.900e+02,\n",
       "        1.460e+02, 8.200e+01, 5.200e+01, 2.300e+01, 2.000e+01, 8.000e+00,\n",
       "        5.000e+00, 3.000e+00, 3.000e+00, 1.000e+00]),\n",
       " array([-8.2000e+00, -7.7450e+00, -7.2900e+00, -6.8350e+00, -6.3800e+00,\n",
       "        -5.9250e+00, -5.4700e+00, -5.0150e+00, -4.5600e+00, -4.1050e+00,\n",
       "        -3.6500e+00, -3.1950e+00, -2.7400e+00, -2.2850e+00, -1.8300e+00,\n",
       "        -1.3750e+00, -9.2000e-01, -4.6500e-01, -1.0000e-02,  4.4500e-01,\n",
       "         9.0000e-01,  1.3550e+00,  1.8100e+00,  2.2650e+00,  2.7200e+00,\n",
       "         3.1750e+00,  3.6300e+00,  4.0850e+00,  4.5400e+00,  4.9950e+00,\n",
       "         5.4500e+00,  5.9050e+00,  6.3600e+00,  6.8150e+00,  7.2700e+00,\n",
       "         7.7250e+00,  8.1800e+00,  8.6350e+00,  9.0900e+00,  9.5450e+00,\n",
       "         1.0000e+01,  1.0455e+01,  1.0910e+01,  1.1365e+01,  1.1820e+01,\n",
       "         1.2275e+01,  1.2730e+01,  1.3185e+01,  1.3640e+01,  1.4095e+01,\n",
       "         1.4550e+01,  1.5005e+01,  1.5460e+01,  1.5915e+01,  1.6370e+01,\n",
       "         1.6825e+01,  1.7280e+01,  1.7735e+01,  1.8190e+01,  1.8645e+01,\n",
       "         1.9100e+01,  1.9555e+01,  2.0010e+01,  2.0465e+01,  2.0920e+01,\n",
       "         2.1375e+01,  2.1830e+01,  2.2285e+01,  2.2740e+01,  2.3195e+01,\n",
       "         2.3650e+01,  2.4105e+01,  2.4560e+01,  2.5015e+01,  2.5470e+01,\n",
       "         2.5925e+01,  2.6380e+01,  2.6835e+01,  2.7290e+01,  2.7745e+01,\n",
       "         2.8200e+01,  2.8655e+01,  2.9110e+01,  2.9565e+01,  3.0020e+01,\n",
       "         3.0475e+01,  3.0930e+01,  3.1385e+01,  3.1840e+01,  3.2295e+01,\n",
       "         3.2750e+01,  3.3205e+01,  3.3660e+01,  3.4115e+01,  3.4570e+01,\n",
       "         3.5025e+01,  3.5480e+01,  3.5935e+01,  3.6390e+01,  3.6845e+01,\n",
       "         3.7300e+01]),\n",
       " <BarContainer object of 100 artists>)"
      ]
     },
     "execution_count": 65,
     "metadata": {},
     "output_type": "execute_result"
    },
    {
     "data": {
      "image/png": "[encoded data removed]",
      "text/plain": [
       "<Figure size 432x288 with 1 Axes>"
      ]
     },
     "metadata": {
      "needs_background": "light"
     },
     "output_type": "display_data"
    }
   ],
   "source": [
    "import matplotlib.pyplot as plt\n",
    "plt.rc('font', family = 'Malgun Gothic')\n",
    "plt.rcParams['axes.unicode_minus'] = False\n",
    "\n",
    "plt.hist(df['최고기온(℃)'], bins=100)"
   ]
  }
 ],
 "metadata": {
  "interpreter": {
   "hash": "38ae1ba9371524da054e8e3fbefd778d16b5a8ac7937a3f395010f627bb73919"
  },
  "kernelspec": {
   "display_name": "Python 3.9.12 64-bit",
   "language": "python",
   "name": "python3"
  },
  "language_info": {
   "codemirror_mode": {
    "name": "ipython",
    "version": 3
   },
   "file_extension": ".py",
   "mimetype": "text/x-python",
   "name": "python",
   "nbconvert_exporter": "python",
   "pygments_lexer": "ipython3",
   "version": "3.9.12"
  },
  "orig_nbformat": 4
 },
 "nbformat": 4,
 "nbformat_minor": 2
}
